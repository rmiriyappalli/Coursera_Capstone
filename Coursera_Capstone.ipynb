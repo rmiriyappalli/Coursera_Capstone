{
    "nbformat_minor": 2, 
    "cells": [
        {
            "source": "### This is to excercise the capstone project of data science ", 
            "cell_type": "markdown", 
            "metadata": {
                "button": false, 
                "new_sheet": false, 
                "run_control": {
                    "read_only": false
                }
            }
        }, 
        {
            "source": "import pandas as pd\nimport numpy as np\n\n%matplotlib inline", 
            "cell_type": "code", 
            "metadata": {
                "button": false, 
                "new_sheet": false, 
                "run_control": {
                    "read_only": false
                }
            }, 
            "outputs": [], 
            "execution_count": 5
        }, 
        {
            "source": "print(\"Hello Capstone Project Course!\")", 
            "cell_type": "code", 
            "metadata": {}, 
            "outputs": [
                {
                    "output_type": "stream", 
                    "name": "stdout", 
                    "text": "Hello Capstone Project Course!\n"
                }
            ], 
            "execution_count": 1
        }, 
        {
            "source": "pip install beautifulsoup4", 
            "cell_type": "code", 
            "metadata": {}, 
            "outputs": [
                {
                    "output_type": "stream", 
                    "name": "stdout", 
                    "text": "\nThe following command must be run outside of the IPython shell:\n\n    $ pip install beautifulsoup4\n\nThe Python package manager (pip) can only be used from outside of IPython.\nPlease reissue the `pip` command in a separate terminal or command prompt.\n\nSee the Python documentation for more informations on how to install packages:\n\n    https://docs.python.org/3/installing/\n"
                }
            ], 
            "execution_count": 2
        }, 
        {
            "source": "from bs4 import BeautifulSoup\nimport requests\nimport csv", 
            "cell_type": "code", 
            "metadata": {
                "scrolled": true
            }, 
            "outputs": [], 
            "execution_count": 7
        }, 
        {
            "source": "\n\nsource = requests.get(\"https://en.wikipedia.org/wiki/List_of_postal_codes_of_Canada:_M\").text", 
            "cell_type": "code", 
            "metadata": {}, 
            "outputs": [], 
            "execution_count": 3
        }, 
        {
            "source": "soup=BeautifulSoup(source, 'lxml')\ncsv_file = open(\"postal_codes.csv\",\"w\")\ncsv_writer = csv.writer(csv_file)\ncsv_writer.writerow(['Postcode','Borough','Neighbourhood'])\n\ntable = soup.find_all('table')[0]\nrow= table.find('tbody')\nprint(row.tr)\nfor table in row: \n   ths = table.tr\n    #headings = [th.text.strip() for th in ths]\n    #if headings[:3] == ['Code', 'Country name', 'Year']:\n       # break\n\n    \nfor codes in soup.find_all('wikitable sortable'):\n    \n    Postcode= codes.tbody.tr.td\n    print(Postcode)\n    #print(article.tbody.tr.th)\n\n    csv_writer.writerow([Postcode,Borough,Neighbourhood])\n    csv_file.close()", 
            "cell_type": "code", 
            "metadata": {
                "scrolled": true
            }, 
            "outputs": [
                {
                    "output_type": "stream", 
                    "name": "stdout", 
                    "text": "<tr>\n<th>Postcode</th>\n<th>Borough</th>\n<th>Neighbourhood\n</th></tr>\n"
                }, 
                {
                    "output_type": "error", 
                    "evalue": "'NavigableString' object has no attribute 'tr'", 
                    "traceback": [
                        "\u001b[0;31m---------------------------------------------------------------------------\u001b[0m", 
                        "\u001b[0;31mAttributeError\u001b[0m                            Traceback (most recent call last)", 
                        "\u001b[0;32m<ipython-input-123-45224f31d50c>\u001b[0m in \u001b[0;36m<module>\u001b[0;34m()\u001b[0m\n\u001b[1;32m      8\u001b[0m \u001b[0mprint\u001b[0m\u001b[0;34m(\u001b[0m\u001b[0mrow\u001b[0m\u001b[0;34m.\u001b[0m\u001b[0mtr\u001b[0m\u001b[0;34m)\u001b[0m\u001b[0;34m\u001b[0m\u001b[0m\n\u001b[1;32m      9\u001b[0m \u001b[0;32mfor\u001b[0m \u001b[0mtable\u001b[0m \u001b[0;32min\u001b[0m \u001b[0mrow\u001b[0m\u001b[0;34m:\u001b[0m\u001b[0;34m\u001b[0m\u001b[0m\n\u001b[0;32m---> 10\u001b[0;31m    \u001b[0mths\u001b[0m \u001b[0;34m=\u001b[0m \u001b[0mtable\u001b[0m\u001b[0;34m.\u001b[0m\u001b[0mtr\u001b[0m\u001b[0;34m\u001b[0m\u001b[0m\n\u001b[0m\u001b[1;32m     11\u001b[0m     \u001b[0;31m#headings = [th.text.strip() for th in ths]\u001b[0m\u001b[0;34m\u001b[0m\u001b[0;34m\u001b[0m\u001b[0m\n\u001b[1;32m     12\u001b[0m     \u001b[0;31m#if headings[:3] == ['Code', 'Country name', 'Year']:\u001b[0m\u001b[0;34m\u001b[0m\u001b[0;34m\u001b[0m\u001b[0m\n", 
                        "\u001b[0;32m/opt/conda/envs/DSX-Python35/lib/python3.5/site-packages/bs4/element.py\u001b[0m in \u001b[0;36m__getattr__\u001b[0;34m(self, attr)\u001b[0m\n\u001b[1;32m    735\u001b[0m             raise AttributeError(\n\u001b[1;32m    736\u001b[0m                 \"'%s' object has no attribute '%s'\" % (\n\u001b[0;32m--> 737\u001b[0;31m                     self.__class__.__name__, attr))\n\u001b[0m\u001b[1;32m    738\u001b[0m \u001b[0;34m\u001b[0m\u001b[0m\n\u001b[1;32m    739\u001b[0m     \u001b[0;32mdef\u001b[0m \u001b[0moutput_ready\u001b[0m\u001b[0;34m(\u001b[0m\u001b[0mself\u001b[0m\u001b[0;34m,\u001b[0m \u001b[0mformatter\u001b[0m\u001b[0;34m=\u001b[0m\u001b[0;34m\"minimal\"\u001b[0m\u001b[0;34m)\u001b[0m\u001b[0;34m:\u001b[0m\u001b[0;34m\u001b[0m\u001b[0m\n", 
                        "\u001b[0;31mAttributeError\u001b[0m: 'NavigableString' object has no attribute 'tr'"
                    ], 
                    "ename": "AttributeError"
                }
            ], 
            "execution_count": 123
        }, 
        {
            "source": "", 
            "cell_type": "code", 
            "metadata": {}, 
            "outputs": [], 
            "execution_count": null
        }
    ], 
    "metadata": {
        "kernelspec": {
            "display_name": "Python 3.5", 
            "name": "python3", 
            "language": "python"
        }, 
        "language_info": {
            "mimetype": "text/x-python", 
            "nbconvert_exporter": "python", 
            "version": "3.5.5", 
            "name": "python", 
            "file_extension": ".py", 
            "pygments_lexer": "ipython3", 
            "codemirror_mode": {
                "version": 3, 
                "name": "ipython"
            }
        }
    }, 
    "nbformat": 4
}