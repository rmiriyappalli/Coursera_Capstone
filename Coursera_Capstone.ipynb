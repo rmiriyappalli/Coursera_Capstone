{
    "nbformat_minor": 2, 
    "cells": [
        {
            "source": "### This is to excercise the capstone project of data science ", 
            "cell_type": "markdown", 
            "metadata": {
                "button": false, 
                "new_sheet": false, 
                "run_control": {
                    "read_only": false
                }
            }
        }, 
        {
            "source": "import pandas as pd\nimport numpy as np\n\n%matplotlib inline", 
            "cell_type": "code", 
            "metadata": {
                "button": false, 
                "new_sheet": false, 
                "run_control": {
                    "read_only": false
                }
            }, 
            "outputs": [], 
            "execution_count": 5
        }, 
        {
            "source": "print(\"Hello Capstone Project Course!\")", 
            "cell_type": "code", 
            "metadata": {}, 
            "outputs": [
                {
                    "output_type": "stream", 
                    "name": "stdout", 
                    "text": "Hello Capstone Project Course!\n"
                }
            ], 
            "execution_count": 1
        }, 
        {
            "source": "pip install beautifulsoup4", 
            "cell_type": "code", 
            "metadata": {}, 
            "outputs": [
                {
                    "output_type": "stream", 
                    "name": "stdout", 
                    "text": "\nThe following command must be run outside of the IPython shell:\n\n    $ pip install beautifulsoup4\n\nThe Python package manager (pip) can only be used from outside of IPython.\nPlease reissue the `pip` command in a separate terminal or command prompt.\n\nSee the Python documentation for more informations on how to install packages:\n\n    https://docs.python.org/3/installing/\n"
                }
            ], 
            "execution_count": 2
        }, 
        {
            "source": "from bs4 import BeautifulSoup\nimport requests\nimport csv", 
            "cell_type": "code", 
            "metadata": {
                "scrolled": true
            }, 
            "outputs": [], 
            "execution_count": 7
        }, 
        {
            "source": "\n\nsource = requests.get(\"https://en.wikipedia.org/wiki/List_of_postal_codes_of_Canada:_M\").text", 
            "cell_type": "code", 
            "metadata": {}, 
            "outputs": [], 
            "execution_count": 3
        }, 
        {
            "source": "soup=BeautifulSoup(source, 'lxml')\ncsv_file = open(\"postal_codes.csv\",\"w\")\ncsv_writer = csv.writer(csv_file)\ncsv_writer.writerow(['Postcode','Borough','Neighbourhood'])\nfor codes in soup.find_all('wikitable sortable jquery-tablesorter'):\n    \n    Postcode= codes.tbody.tr.td\n    print(Postcode)\n    #print(article.tbody.tr.th)\n\n    csv_writer.writerow([Postcode,Borough,Neighbourhood])", 
            "cell_type": "code", 
            "metadata": {
                "scrolled": true
            }, 
            "outputs": [], 
            "execution_count": 25
        }, 
        {
            "source": "", 
            "cell_type": "code", 
            "metadata": {}, 
            "outputs": [], 
            "execution_count": null
        }
    ], 
    "metadata": {
        "kernelspec": {
            "display_name": "Python 3.5", 
            "name": "python3", 
            "language": "python"
        }, 
        "language_info": {
            "mimetype": "text/x-python", 
            "nbconvert_exporter": "python", 
            "version": "3.5.5", 
            "name": "python", 
            "file_extension": ".py", 
            "pygments_lexer": "ipython3", 
            "codemirror_mode": {
                "version": 3, 
                "name": "ipython"
            }
        }
    }, 
    "nbformat": 4
}